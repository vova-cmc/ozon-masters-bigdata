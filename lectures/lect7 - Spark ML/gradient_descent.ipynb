{
 "cells": [
  {
   "cell_type": "markdown",
   "metadata": {},
   "source": [
    "## В этом задании вам нужно реализовать распределенное обучение линейной регрессии методом градиентного спуска c помощью RDD API"
   ]
  },
  {
   "cell_type": "code",
   "execution_count": 1,
   "metadata": {},
   "outputs": [],
   "source": [
    "import os\n",
    "import sys\n",
    "\n",
    "SPARK_HOME = \"/usr/hdp/current/spark2-client\"\n",
    "PYSPARK_PYTHON = \"/opt/conda/envs/dsenv/bin/python\"\n",
    "os.environ[\"PYSPARK_PYTHON\"]= PYSPARK_PYTHON\n",
    "os.environ[\"SPARK_HOME\"] = SPARK_HOME\n",
    "\n",
    "PYSPARK_HOME = os.path.join(SPARK_HOME, \"python/lib\")\n",
    "sys.path.insert(0, os.path.join(PYSPARK_HOME, \"py4j-0.10.7-src.zip\"))\n",
    "sys.path.insert(0, os.path.join(PYSPARK_HOME, \"pyspark.zip\"))"
   ]
  },
  {
   "cell_type": "code",
   "execution_count": 2,
   "metadata": {},
   "outputs": [
    {
     "name": "stdout",
     "output_type": "stream",
     "text": [
      "Spark UI port: 10186\n"
     ]
    }
   ],
   "source": [
    "import random\n",
    "SPARK_UI_PORT = random.choice(range(10000, 10200))\n",
    "print(f\"Spark UI port: {SPARK_UI_PORT}\")"
   ]
  },
  {
   "cell_type": "code",
   "execution_count": 3,
   "metadata": {},
   "outputs": [],
   "source": [
    "from pyspark import SparkConf\n",
    "from pyspark.sql import SparkSession\n",
    "\n",
    "conf = SparkConf()\n",
    "conf.set(\"spark.ui.port\", SPARK_UI_PORT)\n",
    "\n",
    "spark = SparkSession.builder.config(conf=conf).appName(\"Gradient descent\").getOrCreate()"
   ]
  },
  {
   "cell_type": "code",
   "execution_count": 4,
   "metadata": {},
   "outputs": [],
   "source": [
    "sc = spark.sparkContext"
   ]
  },
  {
   "cell_type": "code",
   "execution_count": 5,
   "metadata": {},
   "outputs": [],
   "source": [
    "from pyspark.mllib.regression import LabeledPoint, LinearRegressionWithSGD\n",
    "from numpy import array\n",
    "import random"
   ]
  },
  {
   "cell_type": "markdown",
   "metadata": {},
   "source": [
    "### Шаг 1\n",
    "Реализуйте функцию `gen_point`, которая генерирует точки для функции `y = 10 * x1 + 25 * x2`. `x1` должен генерироваться из равномерного распределения `[-100, 100]`, `x2` из равномерного распределения `[-20, 60]`. Так же к точке необходимо добавить равномерный шум `[-2, 2]`. Функция должна возвращать объект `LabeledPoint`"
   ]
  },
  {
   "cell_type": "code",
   "execution_count": 8,
   "metadata": {},
   "outputs": [],
   "source": [
    "# Ваш код здесь\n",
    "import random\n",
    "\n",
    "def gen_point():\n",
    "    x1 = random.uniform(-100, 100)\n",
    "    x2 = random.uniform(-20, 60)\n",
    "    return LabeledPoint(x1 * 10.0 + x2 * 25.0 + random.uniform(-2, 2), [x1, x2])"
   ]
  },
  {
   "cell_type": "markdown",
   "metadata": {},
   "source": [
    "### Шаг 2\n",
    "Сгенерируйте RDD, состоящую из 100000 точек"
   ]
  },
  {
   "cell_type": "code",
   "execution_count": 11,
   "metadata": {},
   "outputs": [
    {
     "data": {
      "text/plain": [
       "[LabeledPoint(-485.43084623376404, [-44.563840327774365,-1.5607763144258087]),\n",
       " LabeledPoint(605.9549673920567, [-15.755262688576295,30.58940474571196]),\n",
       " LabeledPoint(-167.84954364219197, [-49.57641336180605,13.149207990705989]),\n",
       " LabeledPoint(359.3835062105808, [-96.34943771764364,52.880540316582554]),\n",
       " LabeledPoint(403.3508537655214, [46.39792003833122,-2.440356627675115])]"
      ]
     },
     "execution_count": 11,
     "metadata": {},
     "output_type": "execute_result"
    }
   ],
   "source": [
    "# Ваш код здесь\n",
    "collection = [gen_point() for i in range (100000)]\n",
    "rdd = sc.parallelize(collection, numSlices=4)\n",
    "rdd.take(5)"
   ]
  },
  {
   "cell_type": "markdown",
   "metadata": {},
   "source": [
    "### Шаг 3\n",
    "Используйте `LinearRegressionWithSGD` для обучения модели. 100 итераций, шаг обучения - 0.0001. Выведите веса модели"
   ]
  },
  {
   "cell_type": "code",
   "execution_count": 17,
   "metadata": {},
   "outputs": [],
   "source": [
    "# Ваш код здесь\n",
    "#training = spark.createDataFrame(rdd, schema = [\"label\", \"features\"])\n",
    "\n",
    "sgd = LinearRegressionWithSGD().train(rdd, step=0.0001)\n",
    "# featuresCol=\"features\", labelCol=\"label\", maxIter=100, regParam=0.01"
   ]
  },
  {
   "cell_type": "code",
   "execution_count": 19,
   "metadata": {},
   "outputs": [
    {
     "data": {
      "text/plain": [
       "(weights=[9.97696253142852,20.673355580906133], intercept=0.0)"
      ]
     },
     "execution_count": 19,
     "metadata": {},
     "output_type": "execute_result"
    }
   ],
   "source": [
    "sgd"
   ]
  },
  {
   "cell_type": "markdown",
   "metadata": {},
   "source": [
    "## Реализуйте градиентный спуск своими силами"
   ]
  },
  {
   "cell_type": "markdown",
   "metadata": {},
   "source": [
    "### Шаг 4\n",
    "Разделите RDD с точками на два: `x`, содержащий факторы и `y`, содержащий ответы"
   ]
  },
  {
   "cell_type": "code",
   "execution_count": 24,
   "metadata": {},
   "outputs": [
    {
     "data": {
      "text/plain": [
       "([DenseVector([-44.5638, -1.5608])], [-485.43084623376404])"
      ]
     },
     "execution_count": 24,
     "metadata": {},
     "output_type": "execute_result"
    }
   ],
   "source": [
    "# Ваш код здесь\n",
    "x = rdd.map(lambda x: x.features).cache()\n",
    "y = rdd.map(lambda x: x.label).cache()\n",
    "x.take(1), y.take(1)"
   ]
  },
  {
   "cell_type": "markdown",
   "metadata": {},
   "source": [
    "### Шаг 5\n",
    "Проиницилизируйте начальные веса модели (не используйте bias) и шаг обучения, как на шаге 3 "
   ]
  },
  {
   "cell_type": "code",
   "execution_count": 25,
   "metadata": {},
   "outputs": [],
   "source": [
    "# Ваш код здесь\n",
    "weights = array([0, 0])\n",
    "step=0.0001"
   ]
  },
  {
   "cell_type": "markdown",
   "metadata": {},
   "source": [
    "### Шаг 6\n",
    "Создайте RDD предсказаний линейной модели с текущими весами"
   ]
  },
  {
   "cell_type": "code",
   "execution_count": 29,
   "metadata": {},
   "outputs": [
    {
     "data": {
      "text/plain": [
       "[0.0, 0.0, 0.0, 0.0, 0.0]"
      ]
     },
     "execution_count": 29,
     "metadata": {},
     "output_type": "execute_result"
    }
   ],
   "source": [
    "# Ваш код здесь\n",
    "import numpy as np\n",
    "ys = x.map(lambda x: np.dot(weights, x))\n",
    "ys.take(5)"
   ]
  },
  {
   "cell_type": "markdown",
   "metadata": {},
   "source": [
    "### Шаг 7\n",
    "Создайте RDD, вычисляющую градиента функционала потерь линейной регресси $(X_i \\cdot weights - y_i) * X_i$"
   ]
  },
  {
   "cell_type": "code",
   "execution_count": 30,
   "metadata": {},
   "outputs": [
    {
     "data": {
      "text/plain": [
       "[DenseVector([-21632.6627, -757.649]),\n",
       " DenseVector([9546.9797, -18535.8018]),\n",
       " DenseVector([-8321.3784, 2207.0886]),\n",
       " DenseVector([34626.3987, -19004.394]),\n",
       " DenseVector([-18714.6407, 984.3199])]"
      ]
     },
     "execution_count": 30,
     "metadata": {},
     "output_type": "execute_result"
    }
   ],
   "source": [
    "# Ваш код здесь\n",
    "grad = x.zip(y).map(lambda xy: (xy[0].dot(weights) - xy[1]) * xy[0] )\n",
    "grad.take(5)"
   ]
  },
  {
   "cell_type": "code",
   "execution_count": null,
   "metadata": {},
   "outputs": [],
   "source": []
  },
  {
   "cell_type": "markdown",
   "metadata": {},
   "source": [
    "### Шаг 8\n",
    "Усредните градиенты по датасету и сделайте шаг обновления градиента"
   ]
  },
  {
   "cell_type": "code",
   "execution_count": 33,
   "metadata": {},
   "outputs": [
    {
     "data": {
      "text/plain": [
       "DenseVector([3.3001, 2.3245])"
      ]
     },
     "execution_count": 33,
     "metadata": {},
     "output_type": "execute_result"
    }
   ],
   "source": [
    "# Ваш код здесь\n",
    "weights = weights - step * grad.mean()\n",
    "weights"
   ]
  },
  {
   "cell_type": "markdown",
   "metadata": {},
   "source": [
    "### Шаг 9\n",
    "Теперь соединим все вместе. На каждой итерации выводите текущие веса и среднеквадратическую ошибку"
   ]
  },
  {
   "cell_type": "code",
   "execution_count": 38,
   "metadata": {},
   "outputs": [
    {
     "name": "stdout",
     "output_type": "stream",
     "text": [
      "Step no 0, weights: [9.999335071583767,24.58796413024256], MSE: 159.3152248617526\n",
      "Step no 1, weights: [9.999403984108387,24.626326119249775], MSE: 131.25314135601394\n",
      "Step no 2, weights: [9.999466441019093,24.661114646422696], MSE: 108.17558803369859\n",
      "Step no 3, weights: [9.999523055693231,24.69266258368005], MSE: 89.19718725896519\n",
      "Step no 4, weights: [9.999574380388653,24.72127179555861], MSE: 73.58982668064037\n",
      "Step no 5, weights: [9.99962091325563,24.74721602758294], MSE: 60.75472497141689\n",
      "Step no 6, weights: [9.99966310425906,24.770743525581018], MSE: 50.19945939275474\n",
      "Step no 7, weights: [9.999701360257003,24.79207941100827], MSE: 41.51907384068236\n",
      "Step no 8, weights: [9.999736049410801,24.811427835007848], MSE: 34.38054257672577\n",
      "Step no 9, weights: [9.999767505053734,24.82897393181804], MSE: 28.509993590072174\n"
     ]
    }
   ],
   "source": [
    "# Ваш код здесь\n",
    "for i in range(10):\n",
    "    ys = x.map(lambda x: np.dot(weights, x))\n",
    "    grad = x.zip(y).map(lambda xy: (xy[0].dot(weights) - xy[1]) * xy[0] )\n",
    "    weights = weights - step * grad.mean()\n",
    "    mse = y.zip(ys).map(lambda x: (x[0] - x[1])**2).mean()\n",
    "    print(f\"Step no {i}, weights: {weights}, MSE: {mse}\")"
   ]
  },
  {
   "cell_type": "code",
   "execution_count": 39,
   "metadata": {},
   "outputs": [],
   "source": [
    "spark.stop()"
   ]
  },
  {
   "cell_type": "code",
   "execution_count": null,
   "metadata": {},
   "outputs": [],
   "source": []
  }
 ],
 "metadata": {
  "kernelspec": {
   "display_name": "dsenv",
   "language": "python",
   "name": "dsenv"
  },
  "language_info": {
   "codemirror_mode": {
    "name": "ipython",
    "version": 3
   },
   "file_extension": ".py",
   "mimetype": "text/x-python",
   "name": "python",
   "nbconvert_exporter": "python",
   "pygments_lexer": "ipython3",
   "version": "3.7.9"
  }
 },
 "nbformat": 4,
 "nbformat_minor": 2
}
