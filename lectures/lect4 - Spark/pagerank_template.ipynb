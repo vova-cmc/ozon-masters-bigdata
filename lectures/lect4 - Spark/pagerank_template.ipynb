{
 "cells": [
  {
   "cell_type": "markdown",
   "metadata": {},
   "source": [
    "# PageRank на Spark RDD"
   ]
  },
  {
   "cell_type": "markdown",
   "metadata": {},
   "source": [
    "### Шаг №1\n",
    "Создайте SparkContext"
   ]
  },
  {
   "cell_type": "code",
   "execution_count": 1,
   "metadata": {},
   "outputs": [],
   "source": [
    "import os\n",
    "import sys\n",
    "\n",
    "SPARK_HOME = \"/usr/hdp/current/spark2-client\"\n",
    "PYSPARK_PYTHON = \"/opt/conda/envs/dsenv/bin/python\"\n",
    "os.environ[\"PYSPARK_PYTHON\"]= PYSPARK_PYTHON\n",
    "os.environ[\"SPARK_HOME\"] = SPARK_HOME\n",
    "\n",
    "PYSPARK_HOME = os.path.join(SPARK_HOME, \"python/lib\")\n",
    "sys.path.insert(0, os.path.join(PYSPARK_HOME, \"py4j-0.10.7-src.zip\"))\n",
    "sys.path.insert(0, os.path.join(PYSPARK_HOME, \"pyspark.zip\"))"
   ]
  },
  {
   "cell_type": "code",
   "execution_count": 2,
   "metadata": {},
   "outputs": [
    {
     "name": "stdout",
     "output_type": "stream",
     "text": [
      "Spark UI port: 10298\n"
     ]
    }
   ],
   "source": [
    "import random\n",
    "from pyspark import SparkContext, SparkConf\n",
    "\n",
    "spark_ui_port = random.choice(range(10000, 11000))\n",
    "print(f\"Spark UI port: {spark_ui_port}\")\n",
    "\n",
    "conf = SparkConf()\n",
    "conf.set(\"spark.ui.port\", spark_ui_port)\n",
    "\n",
    "sc = SparkContext(appName=\"Pagerank\", conf=conf)"
   ]
  },
  {
   "cell_type": "markdown",
   "metadata": {},
   "source": [
    "### Шаг №2\n",
    "1. Прочитайте граф из файла `/datasets/spark/graph.tsv`\n",
    "2. Создайте RDD, в которой граф будет представлен парами вершин\n",
    "3. Убедитесь, что граф совпадает с рисунком на доске"
   ]
  },
  {
   "cell_type": "code",
   "execution_count": 22,
   "metadata": {},
   "outputs": [
    {
     "data": {
      "text/plain": [
       "[['A', 'B'],\n",
       " ['A', 'C'],\n",
       " ['B', 'D'],\n",
       " ['C', 'A'],\n",
       " ['C', 'B'],\n",
       " ['C', 'D'],\n",
       " ['D', 'C']]"
      ]
     },
     "execution_count": 22,
     "metadata": {},
     "output_type": "execute_result"
    }
   ],
   "source": [
    "raw_graph = sc.textFile('/datasets/spark/graph.tsv')\n",
    "raw_graph.collect()\n",
    "graph = raw_graph.map(lambda x: x.split('\\t')).cache()\n",
    "graph.collect()"
   ]
  },
  {
   "cell_type": "markdown",
   "metadata": {},
   "source": [
    "### Шаг №3\n",
    "Создайте RDD с первоначальными pagerank всех уникальных вершин"
   ]
  },
  {
   "cell_type": "code",
   "execution_count": 23,
   "metadata": {},
   "outputs": [],
   "source": [
    "vertices = graph.map(lambda x: x[0]).union(graph.map(lambda x: x[0])).distinct()"
   ]
  },
  {
   "cell_type": "code",
   "execution_count": 24,
   "metadata": {},
   "outputs": [
    {
     "data": {
      "text/plain": [
       "['A', 'B', 'C', 'D']"
      ]
     },
     "execution_count": 24,
     "metadata": {},
     "output_type": "execute_result"
    }
   ],
   "source": [
    "vertices.collect()"
   ]
  },
  {
   "cell_type": "code",
   "execution_count": 25,
   "metadata": {},
   "outputs": [],
   "source": [
    "num_vertices = vertices.count()"
   ]
  },
  {
   "cell_type": "code",
   "execution_count": 26,
   "metadata": {},
   "outputs": [
    {
     "data": {
      "text/plain": [
       "[('A', 0.25), ('B', 0.25), ('C', 0.25), ('D', 0.25)]"
      ]
     },
     "execution_count": 26,
     "metadata": {},
     "output_type": "execute_result"
    }
   ],
   "source": [
    "pagerank = vertices.map(lambda x: (x, 1 / num_vertices))\n",
    "pagerank.collect()"
   ]
  },
  {
   "cell_type": "markdown",
   "metadata": {},
   "source": [
    "### Шаг №4\n",
    "Создайте RDD, которая берет RDD с вершинами, объединяет ее с RDD с pagerank. В результате должна получится PairRDD, где ключ - это уникальная вершина, а значение - это все вершины, на которые она ссылаются и ее текущий pagerank"
   ]
  },
  {
   "cell_type": "code",
   "execution_count": 27,
   "metadata": {},
   "outputs": [],
   "source": [
    "links = graph.groupByKey().mapValues(list).cache()"
   ]
  },
  {
   "cell_type": "code",
   "execution_count": 28,
   "metadata": {},
   "outputs": [
    {
     "data": {
      "text/plain": [
       "[('C', (['B', 'D', 'A'], 0.25)),\n",
       " ('A', (['B', 'C'], 0.25)),\n",
       " ('B', (['D'], 0.25)),\n",
       " ('D', (['C'], 0.25))]"
      ]
     },
     "execution_count": 28,
     "metadata": {},
     "output_type": "execute_result"
    }
   ],
   "source": [
    "contributions = links.join(pagerank)\n",
    "contributions.collect()"
   ]
  },
  {
   "cell_type": "markdown",
   "metadata": {},
   "source": [
    "### Шаг №5\n",
    "Реализуйте функцию, которая рассчитывает pagerank для всех вершин, на которые ссылается данная вершина. Функция должна быть итератором, который возвращает вершину и ее pagerank"
   ]
  },
  {
   "cell_type": "code",
   "execution_count": 29,
   "metadata": {},
   "outputs": [],
   "source": [
    "def pagerank_elements(neighbours, pagerank):\n",
    "    n = len(neighbours)\n",
    "    for i in neighbours:\n",
    "        yield (i, pagerank / n)"
   ]
  },
  {
   "cell_type": "markdown",
   "metadata": {},
   "source": [
    "### Шаг №6\n",
    "Обновите RDD с pagerank значениями, посчитанными с помощью функции из предыдущего шага"
   ]
  },
  {
   "cell_type": "code",
   "execution_count": 30,
   "metadata": {},
   "outputs": [
    {
     "data": {
      "text/plain": [
       "[('C', 0.375),\n",
       " ('A', 0.08333333333333333),\n",
       " ('B', 0.20833333333333331),\n",
       " ('D', 0.3333333333333333)]"
      ]
     },
     "execution_count": 30,
     "metadata": {},
     "output_type": "execute_result"
    }
   ],
   "source": [
    "pagerank = contributions.flatMap(lambda x: pagerank_elements(x[1][0],x[1][1])).reduceByKey(lambda x, y: x + y)\n",
    "pagerank.collect()"
   ]
  },
  {
   "cell_type": "markdown",
   "metadata": {},
   "source": [
    "### Шаг №7\n",
    "Напишите цикл, который проводит несколько итераций вычисления pagerank и на каждой печатает номер итерации и текущие pagerank"
   ]
  },
  {
   "cell_type": "code",
   "execution_count": 31,
   "metadata": {},
   "outputs": [
    {
     "name": "stdout",
     "output_type": "stream",
     "text": [
      "Iter 0 of 5. Current pagerank: [('A', 0.125), ('B', 0.16666666666666666), ('C', 0.375), ('D', 0.3333333333333333)] \n",
      "Iter 1 of 5. Current pagerank: [('A', 0.125), ('B', 0.1875), ('C', 0.3958333333333333), ('D', 0.29166666666666663)] \n",
      "Iter 2 of 5. Current pagerank: [('A', 0.13194444444444445), ('B', 0.19444444444444445), ('C', 0.35416666666666663), ('D', 0.3194444444444444)] \n",
      "Iter 3 of 5. Current pagerank: [('A', 0.11805555555555554), ('B', 0.18402777777777776), ('C', 0.38541666666666663), ('D', 0.3125)] \n",
      "Iter 4 of 5. Current pagerank: [('A', 0.1284722222222222), ('B', 0.18749999999999997), ('C', 0.3715277777777778), ('D', 0.3125)] \n"
     ]
    },
    {
     "data": {
      "text/plain": [
       "[('B', 0.18749999999999997),\n",
       " ('D', 0.3125),\n",
       " ('C', 0.3715277777777778),\n",
       " ('A', 0.1284722222222222)]"
      ]
     },
     "execution_count": 31,
     "metadata": {},
     "output_type": "execute_result"
    }
   ],
   "source": [
    "ITERATIONS = 5\n",
    "\n",
    "for i in range (ITERATIONS):\n",
    "    links = graph.groupByKey().mapValues(list).cache()\n",
    "    contributions = links.join(pagerank)\n",
    "    pagerank = contributions.flatMap(lambda x: pagerank_elements(x[1][0],x[1][1])).reduceByKey(lambda x, y: x + y)\n",
    "    print(f\"Iter {i} of {ITERATIONS}. Current pagerank: {sorted(pagerank.collect(), key=lambda x: x[0])} \")\n",
    "pagerank.collect()"
   ]
  },
  {
   "cell_type": "code",
   "execution_count": 21,
   "metadata": {},
   "outputs": [
    {
     "data": {
      "text/plain": [
       "[('D', 0.31251339591906724),\n",
       " ('C', 0.37495579346707825),\n",
       " ('A', 0.12502545224622771),\n",
       " ('B', 0.18750535836762688)]"
      ]
     },
     "execution_count": 21,
     "metadata": {},
     "output_type": "execute_result"
    }
   ],
   "source": [
    "\n",
    "\n",
    "for i in range (0,5):\n",
    "    contributions = links.join(pagerank)\n",
    "    pagerank = contributions.flatMap(lambda x: pagerank_elements(x[1][0],x[1][1])).reduceByKey(lambda x, y: x + y)\n",
    "    \n",
    "pagerank.collect()"
   ]
  },
  {
   "cell_type": "markdown",
   "metadata": {},
   "source": [
    "### Шаг №8\n",
    "Не забудьте остановить SparkContext"
   ]
  },
  {
   "cell_type": "code",
   "execution_count": 32,
   "metadata": {},
   "outputs": [],
   "source": [
    "sc.stop()"
   ]
  },
  {
   "cell_type": "code",
   "execution_count": null,
   "metadata": {},
   "outputs": [],
   "source": []
  }
 ],
 "metadata": {
  "kernelspec": {
   "display_name": "dsenv",
   "language": "python",
   "name": "dsenv"
  },
  "language_info": {
   "codemirror_mode": {
    "name": "ipython",
    "version": 3
   },
   "file_extension": ".py",
   "mimetype": "text/x-python",
   "name": "python",
   "nbconvert_exporter": "python",
   "pygments_lexer": "ipython3",
   "version": "3.7.9"
  }
 },
 "nbformat": 4,
 "nbformat_minor": 2
}
