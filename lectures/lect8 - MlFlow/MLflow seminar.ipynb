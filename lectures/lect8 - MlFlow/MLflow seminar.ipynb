{
 "cells": [
  {
   "cell_type": "markdown",
   "metadata": {
    "id": "Lj5Pmooagw0o"
   },
   "source": [
    "# MLflow Project\n",
    "Вам предстоит реализовать модель классификации цветков Ириса в виде MLflow проекта. Для создания MLflow проекта нужна минимум 2 вещи:\n",
    "\n",
    "*   Python модуль, реализующий эксперимент\n",
    "*   `MLProject` файл, содержащий ифнормацию об эксперименте"
   ]
  },
  {
   "cell_type": "code",
   "execution_count": 1,
   "metadata": {
    "executionInfo": {
     "elapsed": 821,
     "status": "ok",
     "timestamp": 1614190439752,
     "user": {
      "displayName": "Pavel Klemenkov",
      "photoUrl": "https://lh3.googleusercontent.com/a-/AOh14GiuJp5bdxqtyvN9YAc4mp3o-qxM_e4zseIHtB6Ngw=s64",
      "userId": "15765976882124530557"
     },
     "user_tz": -180
    },
    "id": "z8dfs2jbP1DL"
   },
   "outputs": [],
   "source": [
    "import mlflow"
   ]
  },
  {
   "cell_type": "markdown",
   "metadata": {
    "id": "sRT_5O27ijTo"
   },
   "source": [
    "Cоздайте модуль `train.py` (сделайте это в любом удобном текстовом редакторе)\n",
    "\n",
    "Файл `train.py` должен реализовывать логику обучения модели XGboost на датасете Iris. Модуль должен уметь принимать на вход 3 параметра:\n",
    "\n",
    "\n",
    "*   `--learning-rate`, `type=float`, `default=0.3`, `help=\"learning rate to update step size at each boosting step (default: 0.3)\"`\n",
    "*   `--colsample-bytree`, `type=float`, `default=1.0`, `help=\"subsample ratio of columns when constructing each tree (default: 1.0)\"`\n",
    "* `--subsample`, `type=float`, `default=1.0`, `help=\"subsample ratio of the training instances (default: 1.0)\"`\n",
    "\n",
    "Обучающую и тестовую выборку разделите в пропорции 80%/20%, random seed = 42. Модель должна автоматически логгировать все, что может залоггировать. Дополнительно нужно залогировать метрики LogLoss и Accuracy на тестовом множестве.\n",
    "\n",
    "Пример вызова модуля: `python test.py --learning-rate=0.4 --colsample-bytree=0.6 --subsample=0.5`\n",
    "\n",
    "Разбор аргументов командной строки можно делать через модуль `argparse`. Убедитесь, что `train.py`отрабатывает успешно и создает run в MLflow\n"
   ]
  },
  {
   "cell_type": "code",
   "execution_count": null,
   "metadata": {
    "colab": {
     "base_uri": "https://localhost:8080/"
    },
    "executionInfo": {
     "elapsed": 2995,
     "status": "ok",
     "timestamp": 1614190330879,
     "user": {
      "displayName": "Pavel Klemenkov",
      "photoUrl": "https://lh3.googleusercontent.com/a-/AOh14GiuJp5bdxqtyvN9YAc4mp3o-qxM_e4zseIHtB6Ngw=s64",
      "userId": "15765976882124530557"
     },
     "user_tz": -180
    },
    "id": "hjrwRvVSkvLj",
    "outputId": "856c3e1e-505f-4acb-f93f-a10f6dc09389"
   },
   "outputs": [],
   "source": [
    "# Ваш код здесь"
   ]
  },
  {
   "cell_type": "markdown",
   "metadata": {
    "id": "kxTPfdxrlAOg"
   },
   "source": [
    "В любом удобном редакторе создайте файл [MLProject](https://www.mlflow.org/docs/latest/projects.html#mlproject-file). Опишите необходимые параметры и задайте команду для обучения модели из `train.py`. Запустите проект и проверьте, что все работает и в MLflow появляются необходимые run"
   ]
  },
  {
   "cell_type": "code",
   "execution_count": null,
   "metadata": {
    "id": "o1vBxRlxlj-T"
   },
   "outputs": [],
   "source": [
    "# Ваш код десь\n",
    "# mlflow run . -P learning_rate=0.4 -P colsample_bytree=0.6 -P subsample=0.5"
   ]
  },
  {
   "cell_type": "code",
   "execution_count": null,
   "metadata": {
    "id": "cvgdd6nzlytK"
   },
   "outputs": [],
   "source": []
  },
  {
   "cell_type": "code",
   "execution_count": null,
   "metadata": {
    "id": "lEsIhBw-PzHn"
   },
   "outputs": [],
   "source": []
  }
 ],
 "metadata": {
  "colab": {
   "authorship_tag": "ABX9TyNkozIxrXuZn2TWUPEFm6x0",
   "collapsed_sections": [],
   "name": "MLflow seminar.ipynb",
   "provenance": [],
   "toc_visible": true
  },
  "kernelspec": {
   "display_name": "dsenv",
   "language": "python",
   "name": "dsenv"
  },
  "language_info": {
   "codemirror_mode": {
    "name": "ipython",
    "version": 3
   },
   "file_extension": ".py",
   "mimetype": "text/x-python",
   "name": "python",
   "nbconvert_exporter": "python",
   "pygments_lexer": "ipython3",
   "version": "3.7.9"
  }
 },
 "nbformat": 4,
 "nbformat_minor": 1
}
