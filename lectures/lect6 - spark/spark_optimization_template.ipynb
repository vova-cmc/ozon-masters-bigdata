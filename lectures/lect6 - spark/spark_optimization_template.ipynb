{
 "cells": [
  {
   "cell_type": "markdown",
   "id": "visible-while",
   "metadata": {},
   "source": [
    "# Оптимизация программы на Spark RDD\n",
    "Как вы уже знаете, правильное использование и переиспольование партишенеров может привести к серьезному ускорению выполнения Spark программы и сокращению объема shuffle. В этом задании вам предстоит оптимизировать модельную задачу."
   ]
  },
  {
   "cell_type": "code",
   "execution_count": 2,
   "id": "taken-migration",
   "metadata": {},
   "outputs": [],
   "source": [
    "import os\n",
    "import sys\n",
    "\n",
    "SPARK_HOME = \"/usr/hdp/current/spark2-client\"\n",
    "PYSPARK_PYTHON = \"/opt/conda/envs/dsenv/bin/python\"\n",
    "os.environ[\"PYSPARK_PYTHON\"]= PYSPARK_PYTHON\n",
    "os.environ[\"SPARK_HOME\"] = SPARK_HOME\n",
    "\n",
    "PYSPARK_HOME = os.path.join(SPARK_HOME, \"python/lib\")\n",
    "sys.path.insert(0, os.path.join(PYSPARK_HOME, \"py4j-0.10.7-src.zip\"))\n",
    "sys.path.insert(0, os.path.join(PYSPARK_HOME, \"pyspark.zip\"))"
   ]
  },
  {
   "cell_type": "code",
   "execution_count": 3,
   "id": "editorial-athletics",
   "metadata": {},
   "outputs": [],
   "source": [
    "from pyspark import SparkConf, SparkContext\n",
    "import random"
   ]
  },
  {
   "cell_type": "code",
   "execution_count": 4,
   "id": "drawn-andrews",
   "metadata": {},
   "outputs": [
    {
     "name": "stdout",
     "output_type": "stream",
     "text": [
      "Spark UI port is: 10107\n"
     ]
    }
   ],
   "source": [
    "SPARK_UI_PORT = random.choice(range(10100, 10400))\n",
    "print(f\"Spark UI port is: {SPARK_UI_PORT}\")"
   ]
  },
  {
   "cell_type": "code",
   "execution_count": 5,
   "id": "controlled-species",
   "metadata": {},
   "outputs": [],
   "source": [
    "conf = SparkConf()\n",
    "conf.set(\"spark.ui.port\", SPARK_UI_PORT)\n",
    "conf.set(\"spark.default.parallelism\", \"10\")\n",
    "sc = SparkContext(conf=conf)"
   ]
  },
  {
   "cell_type": "markdown",
   "id": "detected-atmosphere",
   "metadata": {},
   "source": [
    "## Задача №1\n",
    "Выполните следующую ячейку"
   ]
  },
  {
   "cell_type": "code",
   "execution_count": 6,
   "id": "vertical-gentleman",
   "metadata": {},
   "outputs": [],
   "source": [
    "keys = list(range(20)) * 10\n",
    "keys_rdd = sc.parallelize(keys)\n",
    "rdd1 = keys_rdd.map(lambda x: (x, \"RDD1\"))\n",
    "rdd2 = keys_rdd.map(lambda x: (x, \"RDD2\"))"
   ]
  },
  {
   "cell_type": "markdown",
   "id": "needed-hydrogen",
   "metadata": {},
   "source": [
    "Проверьте число партиций в `rdd1` и `rdd2`. Почему число партиций именно такое?"
   ]
  },
  {
   "cell_type": "code",
   "execution_count": 7,
   "id": "defined-train",
   "metadata": {},
   "outputs": [
    {
     "data": {
      "text/plain": [
       "(10, 10)"
      ]
     },
     "execution_count": 7,
     "metadata": {},
     "output_type": "execute_result"
    }
   ],
   "source": [
    "# Ваш код здесь\n",
    "rdd1.getNumPartitions(), rdd2.getNumPartitions()"
   ]
  },
  {
   "cell_type": "code",
   "execution_count": 9,
   "id": "composed-method",
   "metadata": {},
   "outputs": [
    {
     "data": {
      "text/plain": [
       "([[(0, 'RDD1'),\n",
       "   (1, 'RDD1'),\n",
       "   (2, 'RDD1'),\n",
       "   (3, 'RDD1'),\n",
       "   (4, 'RDD1'),\n",
       "   (5, 'RDD1'),\n",
       "   (6, 'RDD1'),\n",
       "   (7, 'RDD1'),\n",
       "   (8, 'RDD1'),\n",
       "   (9, 'RDD1'),\n",
       "   (10, 'RDD1'),\n",
       "   (11, 'RDD1'),\n",
       "   (12, 'RDD1'),\n",
       "   (13, 'RDD1'),\n",
       "   (14, 'RDD1'),\n",
       "   (15, 'RDD1'),\n",
       "   (16, 'RDD1'),\n",
       "   (17, 'RDD1'),\n",
       "   (18, 'RDD1'),\n",
       "   (19, 'RDD1')],\n",
       "  [(0, 'RDD1'),\n",
       "   (1, 'RDD1'),\n",
       "   (2, 'RDD1'),\n",
       "   (3, 'RDD1'),\n",
       "   (4, 'RDD1'),\n",
       "   (5, 'RDD1'),\n",
       "   (6, 'RDD1'),\n",
       "   (7, 'RDD1'),\n",
       "   (8, 'RDD1'),\n",
       "   (9, 'RDD1'),\n",
       "   (10, 'RDD1'),\n",
       "   (11, 'RDD1'),\n",
       "   (12, 'RDD1'),\n",
       "   (13, 'RDD1'),\n",
       "   (14, 'RDD1'),\n",
       "   (15, 'RDD1'),\n",
       "   (16, 'RDD1'),\n",
       "   (17, 'RDD1'),\n",
       "   (18, 'RDD1'),\n",
       "   (19, 'RDD1')],\n",
       "  [(0, 'RDD1'),\n",
       "   (1, 'RDD1'),\n",
       "   (2, 'RDD1'),\n",
       "   (3, 'RDD1'),\n",
       "   (4, 'RDD1'),\n",
       "   (5, 'RDD1'),\n",
       "   (6, 'RDD1'),\n",
       "   (7, 'RDD1'),\n",
       "   (8, 'RDD1'),\n",
       "   (9, 'RDD1'),\n",
       "   (10, 'RDD1'),\n",
       "   (11, 'RDD1'),\n",
       "   (12, 'RDD1'),\n",
       "   (13, 'RDD1'),\n",
       "   (14, 'RDD1'),\n",
       "   (15, 'RDD1'),\n",
       "   (16, 'RDD1'),\n",
       "   (17, 'RDD1'),\n",
       "   (18, 'RDD1'),\n",
       "   (19, 'RDD1')],\n",
       "  [(0, 'RDD1'),\n",
       "   (1, 'RDD1'),\n",
       "   (2, 'RDD1'),\n",
       "   (3, 'RDD1'),\n",
       "   (4, 'RDD1'),\n",
       "   (5, 'RDD1'),\n",
       "   (6, 'RDD1'),\n",
       "   (7, 'RDD1'),\n",
       "   (8, 'RDD1'),\n",
       "   (9, 'RDD1'),\n",
       "   (10, 'RDD1'),\n",
       "   (11, 'RDD1'),\n",
       "   (12, 'RDD1'),\n",
       "   (13, 'RDD1'),\n",
       "   (14, 'RDD1'),\n",
       "   (15, 'RDD1'),\n",
       "   (16, 'RDD1'),\n",
       "   (17, 'RDD1'),\n",
       "   (18, 'RDD1'),\n",
       "   (19, 'RDD1')],\n",
       "  [(0, 'RDD1'),\n",
       "   (1, 'RDD1'),\n",
       "   (2, 'RDD1'),\n",
       "   (3, 'RDD1'),\n",
       "   (4, 'RDD1'),\n",
       "   (5, 'RDD1'),\n",
       "   (6, 'RDD1'),\n",
       "   (7, 'RDD1'),\n",
       "   (8, 'RDD1'),\n",
       "   (9, 'RDD1'),\n",
       "   (10, 'RDD1'),\n",
       "   (11, 'RDD1'),\n",
       "   (12, 'RDD1'),\n",
       "   (13, 'RDD1'),\n",
       "   (14, 'RDD1'),\n",
       "   (15, 'RDD1'),\n",
       "   (16, 'RDD1'),\n",
       "   (17, 'RDD1'),\n",
       "   (18, 'RDD1'),\n",
       "   (19, 'RDD1')],\n",
       "  [(0, 'RDD1'),\n",
       "   (1, 'RDD1'),\n",
       "   (2, 'RDD1'),\n",
       "   (3, 'RDD1'),\n",
       "   (4, 'RDD1'),\n",
       "   (5, 'RDD1'),\n",
       "   (6, 'RDD1'),\n",
       "   (7, 'RDD1'),\n",
       "   (8, 'RDD1'),\n",
       "   (9, 'RDD1'),\n",
       "   (10, 'RDD1'),\n",
       "   (11, 'RDD1'),\n",
       "   (12, 'RDD1'),\n",
       "   (13, 'RDD1'),\n",
       "   (14, 'RDD1'),\n",
       "   (15, 'RDD1'),\n",
       "   (16, 'RDD1'),\n",
       "   (17, 'RDD1'),\n",
       "   (18, 'RDD1'),\n",
       "   (19, 'RDD1')],\n",
       "  [(0, 'RDD1'),\n",
       "   (1, 'RDD1'),\n",
       "   (2, 'RDD1'),\n",
       "   (3, 'RDD1'),\n",
       "   (4, 'RDD1'),\n",
       "   (5, 'RDD1'),\n",
       "   (6, 'RDD1'),\n",
       "   (7, 'RDD1'),\n",
       "   (8, 'RDD1'),\n",
       "   (9, 'RDD1'),\n",
       "   (10, 'RDD1'),\n",
       "   (11, 'RDD1'),\n",
       "   (12, 'RDD1'),\n",
       "   (13, 'RDD1'),\n",
       "   (14, 'RDD1'),\n",
       "   (15, 'RDD1'),\n",
       "   (16, 'RDD1'),\n",
       "   (17, 'RDD1'),\n",
       "   (18, 'RDD1'),\n",
       "   (19, 'RDD1')],\n",
       "  [(0, 'RDD1'),\n",
       "   (1, 'RDD1'),\n",
       "   (2, 'RDD1'),\n",
       "   (3, 'RDD1'),\n",
       "   (4, 'RDD1'),\n",
       "   (5, 'RDD1'),\n",
       "   (6, 'RDD1'),\n",
       "   (7, 'RDD1'),\n",
       "   (8, 'RDD1'),\n",
       "   (9, 'RDD1'),\n",
       "   (10, 'RDD1'),\n",
       "   (11, 'RDD1'),\n",
       "   (12, 'RDD1'),\n",
       "   (13, 'RDD1'),\n",
       "   (14, 'RDD1'),\n",
       "   (15, 'RDD1'),\n",
       "   (16, 'RDD1'),\n",
       "   (17, 'RDD1'),\n",
       "   (18, 'RDD1'),\n",
       "   (19, 'RDD1')],\n",
       "  [(0, 'RDD1'),\n",
       "   (1, 'RDD1'),\n",
       "   (2, 'RDD1'),\n",
       "   (3, 'RDD1'),\n",
       "   (4, 'RDD1'),\n",
       "   (5, 'RDD1'),\n",
       "   (6, 'RDD1'),\n",
       "   (7, 'RDD1'),\n",
       "   (8, 'RDD1'),\n",
       "   (9, 'RDD1'),\n",
       "   (10, 'RDD1'),\n",
       "   (11, 'RDD1'),\n",
       "   (12, 'RDD1'),\n",
       "   (13, 'RDD1'),\n",
       "   (14, 'RDD1'),\n",
       "   (15, 'RDD1'),\n",
       "   (16, 'RDD1'),\n",
       "   (17, 'RDD1'),\n",
       "   (18, 'RDD1'),\n",
       "   (19, 'RDD1')],\n",
       "  [(0, 'RDD1'),\n",
       "   (1, 'RDD1'),\n",
       "   (2, 'RDD1'),\n",
       "   (3, 'RDD1'),\n",
       "   (4, 'RDD1'),\n",
       "   (5, 'RDD1'),\n",
       "   (6, 'RDD1'),\n",
       "   (7, 'RDD1'),\n",
       "   (8, 'RDD1'),\n",
       "   (9, 'RDD1'),\n",
       "   (10, 'RDD1'),\n",
       "   (11, 'RDD1'),\n",
       "   (12, 'RDD1'),\n",
       "   (13, 'RDD1'),\n",
       "   (14, 'RDD1'),\n",
       "   (15, 'RDD1'),\n",
       "   (16, 'RDD1'),\n",
       "   (17, 'RDD1'),\n",
       "   (18, 'RDD1'),\n",
       "   (19, 'RDD1')]],\n",
       " [[(0, 'RDD2'),\n",
       "   (1, 'RDD2'),\n",
       "   (2, 'RDD2'),\n",
       "   (3, 'RDD2'),\n",
       "   (4, 'RDD2'),\n",
       "   (5, 'RDD2'),\n",
       "   (6, 'RDD2'),\n",
       "   (7, 'RDD2'),\n",
       "   (8, 'RDD2'),\n",
       "   (9, 'RDD2'),\n",
       "   (10, 'RDD2'),\n",
       "   (11, 'RDD2'),\n",
       "   (12, 'RDD2'),\n",
       "   (13, 'RDD2'),\n",
       "   (14, 'RDD2'),\n",
       "   (15, 'RDD2'),\n",
       "   (16, 'RDD2'),\n",
       "   (17, 'RDD2'),\n",
       "   (18, 'RDD2'),\n",
       "   (19, 'RDD2')],\n",
       "  [(0, 'RDD2'),\n",
       "   (1, 'RDD2'),\n",
       "   (2, 'RDD2'),\n",
       "   (3, 'RDD2'),\n",
       "   (4, 'RDD2'),\n",
       "   (5, 'RDD2'),\n",
       "   (6, 'RDD2'),\n",
       "   (7, 'RDD2'),\n",
       "   (8, 'RDD2'),\n",
       "   (9, 'RDD2'),\n",
       "   (10, 'RDD2'),\n",
       "   (11, 'RDD2'),\n",
       "   (12, 'RDD2'),\n",
       "   (13, 'RDD2'),\n",
       "   (14, 'RDD2'),\n",
       "   (15, 'RDD2'),\n",
       "   (16, 'RDD2'),\n",
       "   (17, 'RDD2'),\n",
       "   (18, 'RDD2'),\n",
       "   (19, 'RDD2')],\n",
       "  [(0, 'RDD2'),\n",
       "   (1, 'RDD2'),\n",
       "   (2, 'RDD2'),\n",
       "   (3, 'RDD2'),\n",
       "   (4, 'RDD2'),\n",
       "   (5, 'RDD2'),\n",
       "   (6, 'RDD2'),\n",
       "   (7, 'RDD2'),\n",
       "   (8, 'RDD2'),\n",
       "   (9, 'RDD2'),\n",
       "   (10, 'RDD2'),\n",
       "   (11, 'RDD2'),\n",
       "   (12, 'RDD2'),\n",
       "   (13, 'RDD2'),\n",
       "   (14, 'RDD2'),\n",
       "   (15, 'RDD2'),\n",
       "   (16, 'RDD2'),\n",
       "   (17, 'RDD2'),\n",
       "   (18, 'RDD2'),\n",
       "   (19, 'RDD2')],\n",
       "  [(0, 'RDD2'),\n",
       "   (1, 'RDD2'),\n",
       "   (2, 'RDD2'),\n",
       "   (3, 'RDD2'),\n",
       "   (4, 'RDD2'),\n",
       "   (5, 'RDD2'),\n",
       "   (6, 'RDD2'),\n",
       "   (7, 'RDD2'),\n",
       "   (8, 'RDD2'),\n",
       "   (9, 'RDD2'),\n",
       "   (10, 'RDD2'),\n",
       "   (11, 'RDD2'),\n",
       "   (12, 'RDD2'),\n",
       "   (13, 'RDD2'),\n",
       "   (14, 'RDD2'),\n",
       "   (15, 'RDD2'),\n",
       "   (16, 'RDD2'),\n",
       "   (17, 'RDD2'),\n",
       "   (18, 'RDD2'),\n",
       "   (19, 'RDD2')],\n",
       "  [(0, 'RDD2'),\n",
       "   (1, 'RDD2'),\n",
       "   (2, 'RDD2'),\n",
       "   (3, 'RDD2'),\n",
       "   (4, 'RDD2'),\n",
       "   (5, 'RDD2'),\n",
       "   (6, 'RDD2'),\n",
       "   (7, 'RDD2'),\n",
       "   (8, 'RDD2'),\n",
       "   (9, 'RDD2'),\n",
       "   (10, 'RDD2'),\n",
       "   (11, 'RDD2'),\n",
       "   (12, 'RDD2'),\n",
       "   (13, 'RDD2'),\n",
       "   (14, 'RDD2'),\n",
       "   (15, 'RDD2'),\n",
       "   (16, 'RDD2'),\n",
       "   (17, 'RDD2'),\n",
       "   (18, 'RDD2'),\n",
       "   (19, 'RDD2')],\n",
       "  [(0, 'RDD2'),\n",
       "   (1, 'RDD2'),\n",
       "   (2, 'RDD2'),\n",
       "   (3, 'RDD2'),\n",
       "   (4, 'RDD2'),\n",
       "   (5, 'RDD2'),\n",
       "   (6, 'RDD2'),\n",
       "   (7, 'RDD2'),\n",
       "   (8, 'RDD2'),\n",
       "   (9, 'RDD2'),\n",
       "   (10, 'RDD2'),\n",
       "   (11, 'RDD2'),\n",
       "   (12, 'RDD2'),\n",
       "   (13, 'RDD2'),\n",
       "   (14, 'RDD2'),\n",
       "   (15, 'RDD2'),\n",
       "   (16, 'RDD2'),\n",
       "   (17, 'RDD2'),\n",
       "   (18, 'RDD2'),\n",
       "   (19, 'RDD2')],\n",
       "  [(0, 'RDD2'),\n",
       "   (1, 'RDD2'),\n",
       "   (2, 'RDD2'),\n",
       "   (3, 'RDD2'),\n",
       "   (4, 'RDD2'),\n",
       "   (5, 'RDD2'),\n",
       "   (6, 'RDD2'),\n",
       "   (7, 'RDD2'),\n",
       "   (8, 'RDD2'),\n",
       "   (9, 'RDD2'),\n",
       "   (10, 'RDD2'),\n",
       "   (11, 'RDD2'),\n",
       "   (12, 'RDD2'),\n",
       "   (13, 'RDD2'),\n",
       "   (14, 'RDD2'),\n",
       "   (15, 'RDD2'),\n",
       "   (16, 'RDD2'),\n",
       "   (17, 'RDD2'),\n",
       "   (18, 'RDD2'),\n",
       "   (19, 'RDD2')],\n",
       "  [(0, 'RDD2'),\n",
       "   (1, 'RDD2'),\n",
       "   (2, 'RDD2'),\n",
       "   (3, 'RDD2'),\n",
       "   (4, 'RDD2'),\n",
       "   (5, 'RDD2'),\n",
       "   (6, 'RDD2'),\n",
       "   (7, 'RDD2'),\n",
       "   (8, 'RDD2'),\n",
       "   (9, 'RDD2'),\n",
       "   (10, 'RDD2'),\n",
       "   (11, 'RDD2'),\n",
       "   (12, 'RDD2'),\n",
       "   (13, 'RDD2'),\n",
       "   (14, 'RDD2'),\n",
       "   (15, 'RDD2'),\n",
       "   (16, 'RDD2'),\n",
       "   (17, 'RDD2'),\n",
       "   (18, 'RDD2'),\n",
       "   (19, 'RDD2')],\n",
       "  [(0, 'RDD2'),\n",
       "   (1, 'RDD2'),\n",
       "   (2, 'RDD2'),\n",
       "   (3, 'RDD2'),\n",
       "   (4, 'RDD2'),\n",
       "   (5, 'RDD2'),\n",
       "   (6, 'RDD2'),\n",
       "   (7, 'RDD2'),\n",
       "   (8, 'RDD2'),\n",
       "   (9, 'RDD2'),\n",
       "   (10, 'RDD2'),\n",
       "   (11, 'RDD2'),\n",
       "   (12, 'RDD2'),\n",
       "   (13, 'RDD2'),\n",
       "   (14, 'RDD2'),\n",
       "   (15, 'RDD2'),\n",
       "   (16, 'RDD2'),\n",
       "   (17, 'RDD2'),\n",
       "   (18, 'RDD2'),\n",
       "   (19, 'RDD2')],\n",
       "  [(0, 'RDD2'),\n",
       "   (1, 'RDD2'),\n",
       "   (2, 'RDD2'),\n",
       "   (3, 'RDD2'),\n",
       "   (4, 'RDD2'),\n",
       "   (5, 'RDD2'),\n",
       "   (6, 'RDD2'),\n",
       "   (7, 'RDD2'),\n",
       "   (8, 'RDD2'),\n",
       "   (9, 'RDD2'),\n",
       "   (10, 'RDD2'),\n",
       "   (11, 'RDD2'),\n",
       "   (12, 'RDD2'),\n",
       "   (13, 'RDD2'),\n",
       "   (14, 'RDD2'),\n",
       "   (15, 'RDD2'),\n",
       "   (16, 'RDD2'),\n",
       "   (17, 'RDD2'),\n",
       "   (18, 'RDD2'),\n",
       "   (19, 'RDD2')]])"
      ]
     },
     "execution_count": 9,
     "metadata": {},
     "output_type": "execute_result"
    }
   ],
   "source": [
    "rdd1.glom().collect(), rdd2.glom().collect()"
   ]
  },
  {
   "cell_type": "markdown",
   "id": "neither-belly",
   "metadata": {},
   "source": [
    "Выполните следующую ячейку. Откройте Spark UI и определите какое количество тасков было выполнено? Вспомните, сколько партиций в `rdd1`, объясните разницу."
   ]
  },
  {
   "cell_type": "code",
   "execution_count": 8,
   "id": "happy-adjustment",
   "metadata": {},
   "outputs": [
    {
     "data": {
      "text/plain": [
       "[(0, 'RDD1'),\n",
       " (1, 'RDD1'),\n",
       " (2, 'RDD1'),\n",
       " (3, 'RDD1'),\n",
       " (4, 'RDD1'),\n",
       " (5, 'RDD1'),\n",
       " (6, 'RDD1'),\n",
       " (7, 'RDD1'),\n",
       " (8, 'RDD1'),\n",
       " (9, 'RDD1')]"
      ]
     },
     "execution_count": 8,
     "metadata": {},
     "output_type": "execute_result"
    }
   ],
   "source": [
    "rdd1.take(10)\n",
    "# 1 таск"
   ]
  },
  {
   "cell_type": "markdown",
   "id": "moving-christian",
   "metadata": {},
   "source": [
    "## Задача №2\n",
    "Выполните следующую ячейку. Откройте Spark UI и изучите выполненный Job. Посмотрите сколько выполнилось стадий (stage), сколько тасков. Проанализируйте DAG и сопоставьте с трансформациями. Найдите столбцы Shuffle Read и Shuffle Write, вспомните, что они обозначают."
   ]
  },
  {
   "cell_type": "code",
   "execution_count": 10,
   "id": "spoken-carbon",
   "metadata": {},
   "outputs": [
    {
     "data": {
      "text/plain": [
       "20"
      ]
     },
     "execution_count": 10,
     "metadata": {},
     "output_type": "execute_result"
    }
   ],
   "source": [
    "rdd3 = rdd1.join(rdd2)\n",
    "rdd4 = rdd3.groupByKey()\n",
    "rdd4.count()"
   ]
  },
  {
   "cell_type": "code",
   "execution_count": null,
   "id": "humanitarian-banking",
   "metadata": {},
   "outputs": [],
   "source": []
  },
  {
   "cell_type": "markdown",
   "id": "shared-heather",
   "metadata": {},
   "source": [
    "## Задача №3\n",
    "Приступим к оптимизациям. `rdd1` и `rdd2` переиспользуют одну и ту же RDD. Какую оптимизацию стоило бы к ней применить? Попробуйте это сделать и посмотрите, есть ли какие-то изменения в Spark UI?"
   ]
  },
  {
   "cell_type": "code",
   "execution_count": 14,
   "id": "faced-shame",
   "metadata": {},
   "outputs": [
    {
     "data": {
      "text/plain": [
       "20"
      ]
     },
     "execution_count": 14,
     "metadata": {},
     "output_type": "execute_result"
    }
   ],
   "source": [
    "keys = list(range(20)) * 10\n",
    "keys_rdd = sc.parallelize(keys).cache()\n",
    "rdd1 = keys_rdd.map(lambda x: (x, \"RDD1\"))\n",
    "rdd2 = keys_rdd.map(lambda x: (x, \"RDD2\"))\n",
    "rdd3 = rdd1.join(rdd2)\n",
    "rdd4 = rdd3.groupByKey()\n",
    "rdd4.count()"
   ]
  },
  {
   "cell_type": "code",
   "execution_count": 15,
   "id": "metric-angola",
   "metadata": {},
   "outputs": [
    {
     "data": {
      "text/plain": [
       "True"
      ]
     },
     "execution_count": 15,
     "metadata": {},
     "output_type": "execute_result"
    }
   ],
   "source": [
    "rdd1.partitioner == rdd2.partitioner"
   ]
  },
  {
   "cell_type": "markdown",
   "id": "found-syndrome",
   "metadata": {},
   "source": [
    "## Задача №4\n",
    "Как вы уже знаете ко-партиционированные RDD полезны для оптимизации широких трансформаций типа `join`. Сделайте `rdd1` и `rdd2` ко-партиционированными (число партиций 4). Выполните код в ячейке и посмотрите на изменения в Spark UI. Изменился ли DAG? Изменилось ли число стадий, тасков? Как изменился общий объем шаффла? Не забудьте перенести оптимизацию из прошлой задачи."
   ]
  },
  {
   "cell_type": "code",
   "execution_count": 7,
   "id": "union-offset",
   "metadata": {},
   "outputs": [
    {
     "data": {
      "text/plain": [
       "20"
      ]
     },
     "execution_count": 7,
     "metadata": {},
     "output_type": "execute_result"
    }
   ],
   "source": [
    "keys = list(range(20)) * 10\n",
    "keys_rdd = sc.parallelize(keys).cache()\n",
    "rdd1 = keys_rdd.map(lambda x: (x, \"RDD1\"))\n",
    "rdd2 = keys_rdd.map(lambda x: (x, \"RDD2\"))\n",
    "rdd1 = rdd1.partitionBy(4)\n",
    "rdd2 = rdd2.partitionBy(4)\n",
    "rdd3 = rdd1.join(rdd2, numPartitions=4)\n",
    "rdd4 = rdd3.groupByKey()\n",
    "rdd4.count()"
   ]
  },
  {
   "cell_type": "markdown",
   "id": "rental-lightning",
   "metadata": {},
   "source": [
    "## Задача №5\n",
    "При подобной компоновке партиций появляются лишние шаффлы, хотя общий объем шаффлов снижается. Сравните партишенеры RDD, порождаемой трансформацией `rdd1.join(rdd2)` с партишенерами `rdd1` и `rdd2`. Если есть различия, попробуйте их объяснить. Попытайтесь исправить эту проблему."
   ]
  },
  {
   "cell_type": "code",
   "execution_count": null,
   "id": "violent-policy",
   "metadata": {},
   "outputs": [],
   "source": [
    "# Сравните партишенеры"
   ]
  },
  {
   "cell_type": "code",
   "execution_count": null,
   "id": "foster-performance",
   "metadata": {},
   "outputs": [],
   "source": [
    "keys = list(range(20)) * 10\n",
    "keys_rdd = sc.parallelize(keys)\n",
    "rdd1 = keys_rdd.map(lambda x: (x, \"RDD1\"))\n",
    "rdd2 = keys_rdd.map(lambda x: (x, \"RDD2\"))\n",
    "rdd3 = rdd1.join(rdd2)\n",
    "rdd4 = rdd3.groupByKey()\n",
    "rdd4.count()"
   ]
  },
  {
   "cell_type": "markdown",
   "id": "hungarian-punch",
   "metadata": {},
   "source": [
    "## Задача №6\n",
    "Лишняя стадия пропала, но у нас остался еще один лишний шаффл. Попробуйте сами понять, в чем проблема, изучив партишенеры различных RDD. В результате всех оптимизаций вы должны получить джоб, с 3 стадиями, числом тасков меньшим, чем в самом первом запуске без оптимизаций и минимальным общим объемом шаффла."
   ]
  },
  {
   "cell_type": "code",
   "execution_count": null,
   "id": "middle-perspective",
   "metadata": {},
   "outputs": [],
   "source": [
    "keys = list(range(20)) * 10\n",
    "keys_rdd = sc.parallelize(keys)\n",
    "rdd1 = keys_rdd.map(lambda x: (x, \"RDD1\"))\n",
    "rdd2 = keys_rdd.map(lambda x: (x, \"RDD2\"))\n",
    "rdd3 = rdd1.join(rdd2)\n",
    "rdd4 = rdd3.groupByKey()\n",
    "rdd4.count()"
   ]
  },
  {
   "cell_type": "code",
   "execution_count": 55,
   "id": "postal-parent",
   "metadata": {},
   "outputs": [],
   "source": [
    "sc.stop()"
   ]
  },
  {
   "cell_type": "code",
   "execution_count": null,
   "id": "united-aviation",
   "metadata": {},
   "outputs": [],
   "source": []
  }
 ],
 "metadata": {
  "kernelspec": {
   "display_name": "dsenv",
   "language": "python",
   "name": "dsenv"
  },
  "language_info": {
   "codemirror_mode": {
    "name": "ipython",
    "version": 3
   },
   "file_extension": ".py",
   "mimetype": "text/x-python",
   "name": "python",
   "nbconvert_exporter": "python",
   "pygments_lexer": "ipython3",
   "version": "3.7.9"
  }
 },
 "nbformat": 4,
 "nbformat_minor": 5
}
